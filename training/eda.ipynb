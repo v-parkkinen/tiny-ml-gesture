{
 "cells": [
  {
   "cell_type": "code",
   "execution_count": 1,
   "metadata": {},
   "outputs": [],
   "source": [
    "import pandas as pd\n",
    "import matplotlib.pyplot as plt\n",
    "from sklearn.preprocessing import MinMaxScaler\n"
   ]
  },
  {
   "cell_type": "code",
   "execution_count": 2,
   "metadata": {},
   "outputs": [],
   "source": [
    "classes = {\n",
    "    0: \"default\",\n",
    "    1: \"wave\",\n",
    "    2: \"circle_cw\",\n",
    "    3: \"cirlce_ccw\",\n",
    "    4: \"rotate\"\n",
    "}"
   ]
  },
  {
   "cell_type": "code",
   "execution_count": 3,
   "metadata": {},
   "outputs": [],
   "source": [
    "\n",
    "\n",
    "raw_data_file = \"data/gyro_data.csv\"\n",
    "all_lines = []\n",
    "with open(raw_data_file, 'r') as file:\n",
    "    current_section = None\n",
    "    section_row_index = None\n",
    "    default_section_index = 0\n",
    "    for line in file:\n",
    "        data = line.strip().split(\";\")\n",
    "\n",
    "        if len(data) == 3 and data[2] == \"sample start\":\n",
    "            current_section = int(data[0])\n",
    "            section_row_index = 0    \n",
    "\n",
    "        if len(data) == 1 and data[0] == \"sample end\":\n",
    "            current_section = None\n",
    "\n",
    "        if current_section is not None and len(data) == 6:\n",
    "            all_lines.append([section_row_index] + data + [current_section])\n",
    "            section_row_index += 1\n",
    "        elif len(data) == 6:\n",
    "            all_lines.append([default_section_index] + data + [0])\n",
    "            default_section_index += 1\n",
    "\n",
    "\n",
    "df = pd.DataFrame(all_lines, columns=[\"ts\", \"AcX\", \"AcY\", \"AcZ\", \"GyX\", \"GyY\", \"GyZ\", \"label\"])\n",
    "\n"
   ]
  },
  {
   "cell_type": "code",
   "execution_count": null,
   "metadata": {},
   "outputs": [],
   "source": [
    "scaler = MinMaxScaler()\n",
    "sensor_columns = [\"AcX\", \"AcY\", \"AcZ\", \"GyX\", \"GyY\", \"GyZ\"]\n",
    "df[sensor_columns] = scaler.fit_transform(df[sensor_columns])\n",
    "df"
   ]
  },
  {
   "cell_type": "code",
   "execution_count": 5,
   "metadata": {},
   "outputs": [],
   "source": [
    "def plot_gyro_data(df: pd.DataFrame):\n",
    "    for idx, name in classes.items():\n",
    "        plt.figure(figsize=(20, 6))\n",
    "        plt.title(f\"Normalized Gyroscope data, class: {name}\")\n",
    "        class_data = df[df[\"label\"] == idx]\n",
    "        for column in sensor_columns:\n",
    "            plt.plot(class_data[\"ts\"], class_data[column], label=column)\n",
    "        plt.legend()\n",
    "        plt.show()"
   ]
  },
  {
   "cell_type": "code",
   "execution_count": null,
   "metadata": {},
   "outputs": [],
   "source": [
    "plot_gyro_data(df)"
   ]
  },
  {
   "cell_type": "code",
   "execution_count": null,
   "metadata": {},
   "outputs": [],
   "source": [
    "filtered_df = df[(df['ts'] >= 10) & (df['ts'] <= 320)]\n",
    "plot_gyro_data(filtered_df)"
   ]
  },
  {
   "cell_type": "code",
   "execution_count": 8,
   "metadata": {},
   "outputs": [],
   "source": [
    "train_test_cutoff = 250"
   ]
  },
  {
   "cell_type": "code",
   "execution_count": null,
   "metadata": {},
   "outputs": [],
   "source": [
    "import numpy as np\n",
    "\n",
    "import tensorflow as tf\n",
    "from tensorflow.keras.models import Sequential\n",
    "from tensorflow.keras.layers import LSTM, Dense\n",
    "from tensorflow.keras.utils import to_categorical"
   ]
  },
  {
   "cell_type": "code",
   "execution_count": 10,
   "metadata": {},
   "outputs": [],
   "source": [
    "features_train = filtered_df[filtered_df[\"ts\"] < train_test_cutoff][['AcX', 'AcY', 'AcZ', 'GyX', 'GyY', 'GyZ']]\n",
    "features_test = filtered_df[filtered_df[\"ts\"] >= train_test_cutoff][['AcX', 'AcY', 'AcZ', 'GyX', 'GyY', 'GyZ']]\n",
    "labels_train = filtered_df[filtered_df[\"ts\"] < train_test_cutoff][\"label\"]\n",
    "labels_test = filtered_df[filtered_df[\"ts\"] >= train_test_cutoff][\"label\"]"
   ]
  },
  {
   "cell_type": "code",
   "execution_count": null,
   "metadata": {},
   "outputs": [],
   "source": [
    "time_steps = 10\n",
    "num_classes = 5\n",
    "\n",
    "X_train = np.array([features_train[i - time_steps:i].values for i in range(time_steps, len(features_train))])\n",
    "X_test = np.array([features_test[i - time_steps:i].values for i in range(time_steps, len(features_test))])\n",
    "\n",
    "y_train = to_categorical(labels_train.values[time_steps:], num_classes=num_classes)\n",
    "y_test = to_categorical(labels_test.values[time_steps:], num_classes=num_classes)\n",
    "X_train.shape"
   ]
  },
  {
   "cell_type": "code",
   "execution_count": null,
   "metadata": {},
   "outputs": [],
   "source": [
    "\n",
    "model = Sequential()\n",
    "model.add(LSTM(units=10, input_shape=(X_train.shape[1], X_train.shape[2])))\n",
    "model.add(Dense(units=num_classes, activation='softmax'))\n",
    "model.compile(optimizer='adam', loss='categorical_crossentropy', metrics=['accuracy'])\n",
    "model.summary()\n",
    "\n"
   ]
  },
  {
   "cell_type": "code",
   "execution_count": null,
   "metadata": {},
   "outputs": [],
   "source": [
    "history = model.fit(X_train, y_train, epochs=100, batch_size=16, validation_data=(X_test, y_test))\n"
   ]
  },
  {
   "cell_type": "code",
   "execution_count": null,
   "metadata": {},
   "outputs": [],
   "source": [
    "plt.figure(figsize=(12, 5))\n",
    "\n",
    "plt.subplot(1, 2, 1)\n",
    "plt.plot(history.history['loss'], label='Training Loss')\n",
    "plt.plot(history.history['val_loss'], label='Validation Loss')\n",
    "plt.title('Training and Validation Loss')\n",
    "plt.xlabel('Epochs')\n",
    "plt.ylabel('Loss')\n",
    "plt.legend()\n",
    "\n",
    "plt.subplot(1, 2, 2)\n",
    "plt.plot(history.history['accuracy'], label='Training Accuracy')\n",
    "plt.plot(history.history['val_accuracy'], label='Validation Accuracy')\n",
    "plt.title('Training and Validation Accuracy')\n",
    "plt.xlabel('Epochs')\n",
    "plt.ylabel('Accuracy')\n",
    "plt.legend()\n",
    "\n",
    "plt.tight_layout()\n",
    "plt.show()"
   ]
  },
  {
   "cell_type": "code",
   "execution_count": null,
   "metadata": {},
   "outputs": [],
   "source": [
    "model.save(\"../models/latest_model\")"
   ]
  },
  {
   "cell_type": "code",
   "execution_count": null,
   "metadata": {},
   "outputs": [],
   "source": [
    "model = tf.keras.models.load_model(\"../models/best_model\")"
   ]
  },
  {
   "cell_type": "code",
   "execution_count": null,
   "metadata": {},
   "outputs": [],
   "source": [
    "# Export weights so that they can be used in the c++ code\n",
    "wandb = {\n",
    "    \"lstmIxWeights[60]\": (0, 0, 10),\n",
    "    \"lstmFxWeights[60]\": (0, 10, 10),\n",
    "    \"lstmCxWeights[60]\": (0, 20, 10),\n",
    "    \"lstmOxWeights[60]\": (0, 30, 10),\n",
    "    \"lstmIhWeights[100]\": (1, 0, 10),\n",
    "    \"lstmFhWeights[100]\": (1, 10, 10),\n",
    "    \"lstmChWeights[100]\": (1, 20, 10),\n",
    "    \"lstmOhWeights[100]\": (1, 30, 10),\n",
    "    \"lstmIBiases[10]\": (2, 0, 10),\n",
    "    \"lstmFBiases[10]\": (2, 10, 10),\n",
    "    \"lstmCBiases[10]\": (2, 20, 10),\n",
    "    \"lstmOBiases[10]\": (2, 30, 10),\n",
    "    \"denseLayerWeights[50]\": (3, 0, 5),\n",
    "    \"denseLayerBiases[5]\": (4, 0, 5)\n",
    "}\n",
    "\n",
    "weights = model.get_weights()\n",
    "for key in wandb:\n",
    "    layer, offset, length = wandb[key]\n",
    "    print(\"const float {key} =  {{\".format(key=key))\n",
    "    if len(weights[layer].shape) == 2:\n",
    "        data = weights[layer][:, offset:offset+length]\n",
    "\n",
    "        if key != \"dense_w\":\n",
    "            data = data.T\n",
    "        for d in data:\n",
    "            print(\"\\t\", end=\"\")\n",
    "            print(\", \".join(map(str, d)), end=\",\\n\")\n",
    "    else:\n",
    "        data = weights[layer][offset:offset+length]\n",
    "        print(\"\\t\", end=\"\")\n",
    "        print(\", \".join(map(str, data)))\n",
    "    print(\"};\")\n",
    "    print()"
   ]
  }
 ],
 "metadata": {
  "kernelspec": {
   "display_name": "venv",
   "language": "python",
   "name": "python3"
  },
  "language_info": {
   "codemirror_mode": {
    "name": "ipython",
    "version": 3
   },
   "file_extension": ".py",
   "mimetype": "text/x-python",
   "name": "python",
   "nbconvert_exporter": "python",
   "pygments_lexer": "ipython3",
   "version": "3.11.4"
  }
 },
 "nbformat": 4,
 "nbformat_minor": 2
}
